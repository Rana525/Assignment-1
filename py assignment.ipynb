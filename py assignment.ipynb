{
 "cells": [
  {
   "cell_type": "code",
   "execution_count": 10,
   "id": "49770c51",
   "metadata": {},
   "outputs": [
    {
     "name": "stdout",
     "output_type": "stream",
     "text": [
      "How many unit 310\n",
      "You have to pay 2250\n"
     ]
    }
   ],
   "source": [
    "#Qustion number 3\n",
    "unit=int(input(\"How many unit \"))\n",
    "if unit<=0:\n",
    "    print(\"You have to pay 0\")\n",
    "if unit>0 and unit<=100:\n",
    "    rs=4.5*unit\n",
    "    print(\"You have to pay\",rs)\n",
    "if unit>100 and unit<=200:\n",
    "    unit=unit-100\n",
    "    for unit in range (1,unit+1):\n",
    "        rs=450+6*unit\n",
    "    print(\"You have to pay\",rs)\n",
    "if unit>200 and unit<=300:\n",
    "    unit=unit-200\n",
    "    for unit in range(1,unit+1):\n",
    "        rs=450+600+10*unit\n",
    "    print(\"You have to pay\",rs)\n",
    "if unit>300:\n",
    "    unit=unit-300\n",
    "    for unit in range(1,unit+1):\n",
    "        rs=450+600+1000+20*unit\n",
    "    print(\"You have to pay\",rs)"
   ]
  },
  {
   "cell_type": "code",
   "execution_count": 63,
   "id": "dd791c24",
   "metadata": {},
   "outputs": [],
   "source": [
    "# qustion number 4\n",
    "num=100\n",
    "l=[]\n",
    "l1=[]\n",
    "for num in range(1,num+1):\n",
    "    l.append(num**3)\n",
    "for num in range(1,num+1):\n",
    "    if (num**3)%4==0 or (num**3)%5==0:\n",
    "        l1.append(num**3)"
   ]
  },
  {
   "cell_type": "code",
   "execution_count": 64,
   "id": "ebb5a6e0",
   "metadata": {},
   "outputs": [
    {
     "name": "stdout",
     "output_type": "stream",
     "text": [
      "Cube of 1 to 100\n",
      "\n",
      " [1, 8, 27, 64, 125, 216, 343, 512, 729, 1000, 1331, 1728, 2197, 2744, 3375, 4096, 4913, 5832, 6859, 8000, 9261, 10648, 12167, 13824, 15625, 17576, 19683, 21952, 24389, 27000, 29791, 32768, 35937, 39304, 42875, 46656, 50653, 54872, 59319, 64000, 68921, 74088, 79507, 85184, 91125, 97336, 103823, 110592, 117649, 125000, 132651, 140608, 148877, 157464, 166375, 175616, 185193, 195112, 205379, 216000, 226981, 238328, 250047, 262144, 274625, 287496, 300763, 314432, 328509, 343000, 357911, 373248, 389017, 405224, 421875, 438976, 456533, 474552, 493039, 512000, 531441, 551368, 571787, 592704, 614125, 636056, 658503, 681472, 704969, 729000, 753571, 778688, 804357, 830584, 857375, 884736, 912673, 941192, 970299, 1000000]\n",
      "\n",
      "\n",
      "Cube of 1 to 100 which is divisible by 4 or 5\n",
      "\n",
      " [8, 64, 125, 216, 512, 1000, 1728, 2744, 3375, 4096, 5832, 8000, 10648, 13824, 15625, 17576, 21952, 27000, 32768, 39304, 42875, 46656, 54872, 64000, 74088, 85184, 91125, 97336, 110592, 125000, 140608, 157464, 166375, 175616, 195112, 216000, 238328, 262144, 274625, 287496, 314432, 343000, 373248, 405224, 421875, 438976, 474552, 512000, 551368, 592704, 614125, 636056, 681472, 729000, 778688, 830584, 857375, 884736, 941192, 1000000]\n"
     ]
    }
   ],
   "source": [
    "print(\"Cube of 1 to 100\\n\\n\",l)\n",
    "print(\"\\n\\nCube of 1 to 100 which is divisible by 4 or 5\\n\\n\",l1)"
   ]
  },
  {
   "cell_type": "code",
   "execution_count": 89,
   "id": "6f6efee2",
   "metadata": {},
   "outputs": [],
   "source": [
    "#qustion number 5\n",
    "l=[]\n",
    "string = \"I want to become a data scientist\"\n",
    "for count in string:\n",
    "    \n",
    "    if count=='a' or count=='A' or count=='E' or count=='e' or count=='I' or count=='i' or count=='O' or count=='o' or count=='U' or count=='u':\n",
    "        l.append(count)\n",
    "    \n",
    "        "
   ]
  },
  {
   "cell_type": "code",
   "execution_count": 90,
   "id": "323ca9a7",
   "metadata": {},
   "outputs": [
    {
     "name": "stdout",
     "output_type": "stream",
     "text": [
      "['I', 'a', 'o', 'e', 'o', 'e', 'a', 'a', 'a', 'i', 'e', 'i']\n"
     ]
    }
   ],
   "source": [
    "print(l)"
   ]
  },
  {
   "cell_type": "code",
   "execution_count": 92,
   "id": "1cd1e64b",
   "metadata": {},
   "outputs": [
    {
     "name": "stdout",
     "output_type": "stream",
     "text": [
      "The addtion of first 10 number  55  multiplication of 10 number  3628800\n"
     ]
    }
   ],
   "source": [
    "#qustion number 2\n",
    "num=10\n",
    "sum1=0\n",
    "multi=1\n",
    "for i in range(1,num+1):\n",
    "    sum1=sum1+i\n",
    "    multi=multi*i\n",
    "print(\"The addtion of first 10 number \",sum1,\" multiplication of 10 number \",multi)\n",
    "    "
   ]
  },
  {
   "cell_type": "code",
   "execution_count": null,
   "id": "932bb48a",
   "metadata": {},
   "outputs": [],
   "source": []
  }
 ],
 "metadata": {
  "kernelspec": {
   "display_name": "Python 3 (ipykernel)",
   "language": "python",
   "name": "python3"
  },
  "language_info": {
   "codemirror_mode": {
    "name": "ipython",
    "version": 3
   },
   "file_extension": ".py",
   "mimetype": "text/x-python",
   "name": "python",
   "nbconvert_exporter": "python",
   "pygments_lexer": "ipython3",
   "version": "3.9.13"
  }
 },
 "nbformat": 4,
 "nbformat_minor": 5
}
